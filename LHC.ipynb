{
 "metadata": {
  "name": ""
 },
 "nbformat": 3,
 "nbformat_minor": 0,
 "worksheets": [
  {
   "cells": [
    {
     "cell_type": "markdown",
     "metadata": {},
     "source": [
      "# The LHC storage ring parameters"
     ]
    },
    {
     "cell_type": "code",
     "collapsed": false,
     "input": [
      "%matplotlib inline\n",
      "import warnings\n",
      "from numpy import *\n",
      "from matplotlib import pyplot as plt\n",
      "from numpy import dot\n",
      "from random import gauss\n",
      "from sympy import *\n",
      "from util import *"
     ],
     "language": "python",
     "metadata": {},
     "outputs": [],
     "prompt_number": 12
    },
    {
     "cell_type": "heading",
     "level": 2,
     "metadata": {},
     "source": [
      "Basic"
     ]
    },
    {
     "cell_type": "code",
     "collapsed": false,
     "input": [
      "# Beam energy at collision [eV]\n",
      "energy = 7e12\n",
      "\n",
      "# Proton mass [eV/c^2]\n",
      "m_p = 938.272046e6\n",
      "\n",
      "# Speed of light [m/s]\n",
      "c = 299792458\n",
      "\n",
      "# Relativistic gamma\n",
      "gamma_rel = energy/m_p\n",
      "print \"Relativistic gamma\", gamma_rel\n",
      "\n",
      "# Relativistic beta\n",
      "beta_rel = sqrt(1-(1/gamma_rel**2))\n",
      "print \"Relativistic beta\", beta_rel"
     ],
     "language": "python",
     "metadata": {},
     "outputs": [
      {
       "output_type": "stream",
       "stream": "stdout",
       "text": [
        "Relativistic gamma 7460.52280875\n",
        "Relativistic beta 0.999999991017\n"
       ]
      }
     ],
     "prompt_number": 35
    },
    {
     "cell_type": "heading",
     "level": 2,
     "metadata": {},
     "source": [
      "Lattice"
     ]
    },
    {
     "cell_type": "code",
     "collapsed": false,
     "input": [
      "# Ring circumference [m]\n",
      "circumference = 26658.883\n",
      "radius = circumference/(2*pi)\n",
      "print \"LHC radius =\", radius, \"[m]\"\n",
      "\n",
      "# Tunes at collision\n",
      "q_h = 64.31\n",
      "q_v = 59.32\n",
      "\n",
      "# Momentum compaction \n",
      "alpha = 3.225e-4\n",
      "\n",
      "# Slip factor at collision \n",
      "eta = 3.2254e-4\n",
      "\n",
      "# Gamma transition\n",
      "gamma_tr = 55.68"
     ],
     "language": "python",
     "metadata": {},
     "outputs": [
      {
       "output_type": "stream",
       "stream": "stdout",
       "text": [
        "LHC radius = 4242.89300676 [m]\n"
       ]
      }
     ],
     "prompt_number": 29
    },
    {
     "cell_type": "heading",
     "level": 2,
     "metadata": {},
     "source": [
      "RF System"
     ]
    },
    {
     "cell_type": "code",
     "collapsed": false,
     "input": [
      "# Revolution frequency [Hz]\n",
      "f_rev = 11.245e3\n",
      "t_rev = 1/f_rev\n",
      "print \"Revolution period = \", t_rev*10**6, \"[us]\"\n",
      "\n",
      "# RF frequency [Hz]\n",
      "f_rf = 400.8e6\n",
      "\n",
      "# Harmonic number\n",
      "h = 35640\n",
      "\n",
      "# Number of bunches\n",
      "n_b = 2808\n",
      "\n",
      "# Total RF voltage at collision [V]\n",
      "v_rf = 16e6\n",
      "\n",
      "# Synchrotron frequency at collision [Hz]\n",
      "f_sync = 21.4\n",
      "t_sync = 1/f_sync\n",
      "print \"Synchrotron period = \", t_sync*10**6, \"[us] = \", t_sync/t_rev, \"revolution periods\" \n",
      "\n",
      "# Bucket area at collision [eVs]\n",
      "bucket_area = 8.7\n",
      "\n",
      "# Bucket half height (dE/E)\n",
      "bucket_height = 0.36e-3"
     ],
     "language": "python",
     "metadata": {},
     "outputs": [
      {
       "output_type": "stream",
       "stream": "stdout",
       "text": [
        "Revolution period =  88.9284126278 [us]\n",
        "Synchrotron period =  46728.9719626 [us] =  525.46728972 revolution periods\n"
       ]
      }
     ],
     "prompt_number": 30
    },
    {
     "cell_type": "code",
     "collapsed": false,
     "input": [],
     "language": "python",
     "metadata": {},
     "outputs": []
    }
   ],
   "metadata": {}
  }
 ]
}