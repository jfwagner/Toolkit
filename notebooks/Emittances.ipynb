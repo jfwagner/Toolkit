{
 "metadata": {
  "name": ""
 },
 "nbformat": 3,
 "nbformat_minor": 0,
 "worksheets": [
  {
   "cells": [
    {
     "cell_type": "markdown",
     "metadata": {},
     "source": [
      "# Beam emittance\n",
      "This notebook shows how to calculate the normalized emittance from a particle distribution.\n",
      "\n",
      "\\begin{equation}\n",
      "    \\epsilon_n = \\epsilon_{geom} \\beta_{rel} \\gamma_{rel}\n",
      "\\end{equation}"
     ]
    },
    {
     "cell_type": "code",
     "collapsed": false,
     "input": [
      "%matplotlib inline\n",
      "import warnings\n",
      "from numpy import *\n",
      "from matplotlib import pyplot as plt\n",
      "from random import gauss\n",
      "from sympy import *\n",
      "from util import *"
     ],
     "language": "python",
     "metadata": {},
     "outputs": [],
     "prompt_number": 142
    },
    {
     "cell_type": "markdown",
     "metadata": {},
     "source": [
      "## About phase space and trace space\n",
      "\n",
      "The **trace space** $(x,x')$ and **phase space** $(x, p_x)$ emittances are equal if the correlated transverse momentum spread is close to zero. \n",
      "\n",
      "*[Ref. \"[Some basic features of the beam emittance](http://journals.aps.org/prstab/pdf/10.1103/PhysRevSTAB.6.034202)\", K. Floettmann, PHYSICAL REVIEW SPECIAL TOPICS - ACCELERATORS AND BEAMS,VOLUME 6, 034202 (2003)]*\n",
      "\n",
      "The coordinates $(x, x')$ refer to the **trace space**, in which $x' = \\frac{p_x}{p_z}$ by doing:\n",
      "\n",
      "\\begin{equation}\n",
      "    x' = \\frac{dx}{ds} \\ \\ \\ ; \\ \\ \\ p_x = mv = m \\frac{dx}{ds} \\frac{ds}{dt}\n",
      "\\end{equation}\n",
      "\n",
      "\\begin{equation}\n",
      "    p_x = x' p_z \\ \\ \\rightarrow \\ \\ x' = \\frac{p_x}{p_z}\n",
      "\\end{equation}\n",
      "\n",
      "From the definition of $x'$ above, it is clear that the trace space emittance will change if the transverse momentum spread or the energy spread are changed."
     ]
    },
    {
     "cell_type": "markdown",
     "metadata": {},
     "source": [
      "## Some simulation parameters"
     ]
    },
    {
     "cell_type": "code",
     "collapsed": false,
     "input": [
      "# Beam energy at collision [eV]\n",
      "energy = 7e12\n",
      "\n",
      "# Proton mass [eV/c^2]\n",
      "m_p = 938.272046e6\n",
      "\n",
      "# Speed of light [m/s]\n",
      "c = 299792458\n",
      "\n",
      "# Relativistic gamma\n",
      "gamma_rel = energy/m_p\n",
      "print \"Relativistic gamma\", gamma_rel\n",
      "\n",
      "# Relativistic beta\n",
      "beta_rel = sqrt(1-(1/gamma_rel**2))\n",
      "print \"Relativistic beta\", beta_rel"
     ],
     "language": "python",
     "metadata": {},
     "outputs": [
      {
       "output_type": "stream",
       "stream": "stdout",
       "text": [
        "Relativistic gamma 7460.52280875\n",
        "Relativistic beta 0.999999991017\n"
       ]
      }
     ],
     "prompt_number": 143
    },
    {
     "cell_type": "markdown",
     "metadata": {},
     "source": [
      "## Load particle distribution\n",
      "The function **get_columns** can be loaded from the module **util.py** in this same repository."
     ]
    },
    {
     "cell_type": "code",
     "collapsed": false,
     "input": [
      "infile = \"init_dist.txt\"\n",
      "x, y = get_columns(infile, 0, 2, \"float\")\n",
      "xp, yp = get_columns(infile, 1, 3, \"float\")"
     ],
     "language": "python",
     "metadata": {},
     "outputs": [],
     "prompt_number": 144
    },
    {
     "cell_type": "markdown",
     "metadata": {},
     "source": [
      "## Method 1: Sigma matrix (trace space)\n",
      "The beam distribution can be characterized by its first and second moments. The first moments give the centroid motion. The second moments are combined in a **beam or sigma matrix**. The explicit sigma matrix for $x$ would be:\n",
      "\n",
      "\\begin{equation}\n",
      "    \\Sigma_{beam}^x =\n",
      "    \\begin{pmatrix}\n",
      "        \\langle x^2\\rangle - \\langle x \\rangle^2 & \\langle xx'\\rangle - \\langle x\\rangle\\langle x'\\rangle \\\\\n",
      "        \\langle x'x\\rangle - \\langle x' \\rangle \\langle x\\rangle & \\langle x'^2\\rangle - \\langle x'\\rangle^2\n",
      "    \\end{pmatrix} =\n",
      "    \\begin{pmatrix}\n",
      "        \\sigma_{xx} & \\sigma_{xx'} \\\\\n",
      "        \\sigma_{x'x} & \\sigma_{x'x'}\n",
      "    \\end{pmatrix} \n",
      "\\end{equation}\n",
      "\n",
      "This matrix is also related to the **Twiss (Courant-Snyder)** parameters:"
     ]
    },
    {
     "cell_type": "markdown",
     "metadata": {},
     "source": [
      "\\begin{equation}\n",
      "    \\Sigma_{beam}^x = \\epsilon_x\n",
      "    \\begin{pmatrix}\n",
      "          \\beta & - \\alpha \\\\\n",
      "        - \\alpha & \\gamma\n",
      "    \\end{pmatrix}\n",
      "\\end{equation}"
     ]
    },
    {
     "cell_type": "code",
     "collapsed": false,
     "input": [
      "# Sigma matrix for X\n",
      "term_1_x = mean(multiply(x,x)) - multiply(mean(x), mean(x))\n",
      "term_2_x = mean(multiply(x,xp)) - multiply(mean(x),mean(xp))\n",
      "term_3_x = mean(multiply(xp,x)) - multiply(mean(xp), mean(x))\n",
      "term_4_x = mean(multiply(xp,xp)) - multiply(mean(xp),mean(xp))"
     ],
     "language": "python",
     "metadata": {},
     "outputs": [],
     "prompt_number": 145
    },
    {
     "cell_type": "code",
     "collapsed": false,
     "input": [
      "# Sigma matrix for Y\n",
      "term_1_y = mean(multiply(y,y)) - multiply(mean(y), mean(y))\n",
      "term_2_y = mean(multiply(y,yp)) - multiply(mean(y),mean(yp))\n",
      "term_3_y = mean(multiply(yp,y)) - multiply(mean(yp), mean(y))\n",
      "term_4_y = mean(multiply(yp,yp)) - multiply(mean(yp),mean(yp))"
     ],
     "language": "python",
     "metadata": {},
     "outputs": [],
     "prompt_number": 146
    },
    {
     "cell_type": "code",
     "collapsed": false,
     "input": [
      "# Checking the means of the distribution\n",
      "print mean(x)\n",
      "print mean(y)"
     ],
     "language": "python",
     "metadata": {},
     "outputs": [
      {
       "output_type": "stream",
       "stream": "stdout",
       "text": [
        "4.76939623068e-08\n",
        "1.09207056665e-07\n"
       ]
      }
     ],
     "prompt_number": 147
    },
    {
     "cell_type": "markdown",
     "metadata": {},
     "source": [
      "The emittance is given by the square root of the determinant of the sigma matrix (called **RMS = Root Mean Square**).\n",
      "\n",
      "$\\epsilon_x = \\sqrt{\\sigma_{xx}\\sigma_{x'x'} - \\sigma_{x'x}\\sigma_{xx'}}$"
     ]
    },
    {
     "cell_type": "code",
     "collapsed": false,
     "input": [
      "# For X\n",
      "det_x = multiply(term_1_x, term_4_x) - multiply(term_3_x, term_2_x)\n",
      "print sqrt(abs(det_x))*beta_rel*gamma_rel"
     ],
     "language": "python",
     "metadata": {},
     "outputs": [
      {
       "output_type": "stream",
       "stream": "stdout",
       "text": [
        "2.48441354387e-06\n"
       ]
      }
     ],
     "prompt_number": 148
    },
    {
     "cell_type": "code",
     "collapsed": false,
     "input": [
      "# For Y\n",
      "det_y = multiply(term_1_y, term_4_y) - multiply(term_3_y, term_2_y)\n",
      "print sqrt(abs(det_y))*beta_rel*gamma_rel"
     ],
     "language": "python",
     "metadata": {},
     "outputs": [
      {
       "output_type": "stream",
       "stream": "stdout",
       "text": [
        "2.49044248475e-06\n"
       ]
      }
     ],
     "prompt_number": 149
    },
    {
     "cell_type": "markdown",
     "metadata": {},
     "source": [
      "## Method 2: Beta function\n",
      "The trace space $(x, x')$ looks like this in terms of the **Twiss functions** $\\alpha, \\beta, \\gamma$:"
     ]
    },
    {
     "cell_type": "markdown",
     "metadata": {},
     "source": [
      "\n",
      "<img src=\"files/img/ellipsecourantsnyder.png\" width=\"50%\" height=\"50%\">"
     ]
    },
    {
     "cell_type": "markdown",
     "metadata": {},
     "source": [
      "Remembering the **Courant_Snyder** invariant (or the ellipse equation):\n",
      "\n",
      "\\begin{equation}\n",
      "    \\epsilon_{rms} = \\gamma x^2 + 2\\alpha x x' + \\beta x'^2\n",
      "\\end{equation}\n",
      "\n",
      "The maximum value of the ellipse in x is (from the drawing):\n",
      "\n",
      "\\begin{equation}\n",
      "    \\sigma_x = \\sqrt{\\epsilon_x \\beta_x} \\ \\ \\rightarrow \\ \\ \\epsilon_x = \\frac{\\sigma_x^2}{\\beta_x}\n",
      "\\end{equation}"
     ]
    },
    {
     "cell_type": "code",
     "collapsed": false,
     "input": [
      "# Beta function at IP1, where the distribution will be loaded in the tracking code\n",
      "beta = 0.15"
     ],
     "language": "python",
     "metadata": {},
     "outputs": [],
     "prompt_number": 150
    },
    {
     "cell_type": "code",
     "collapsed": false,
     "input": [
      "# For X\n",
      "print (multiply(std(x), std(x))/beta)*beta_rel*gamma_rel"
     ],
     "language": "python",
     "metadata": {},
     "outputs": [
      {
       "output_type": "stream",
       "stream": "stdout",
       "text": [
        "2.42985552162e-06\n"
       ]
      }
     ],
     "prompt_number": 151
    },
    {
     "cell_type": "code",
     "collapsed": false,
     "input": [
      "# For Y\n",
      "print (multiply(std(y), std(y))/beta)*beta_rel*gamma_rel"
     ],
     "language": "python",
     "metadata": {},
     "outputs": [
      {
       "output_type": "stream",
       "stream": "stdout",
       "text": [
        "2.52834119159e-06\n"
       ]
      }
     ],
     "prompt_number": 152
    },
    {
     "cell_type": "markdown",
     "metadata": {},
     "source": [
      "This method is not recommended since it relies on the beta function, which is a **function of the lattice**. It's better to operate with just properties of the beam."
     ]
    },
    {
     "cell_type": "markdown",
     "metadata": {},
     "source": [
      "## Method 3: phase space\n",
      "In order to remove the linearly correlated transverse momentum from a distribution of particles in the transverse phase space, a straight line fit $p_x = mx$ is made to the distribution which yields the inclination m of the distribution. The correlation is removed from the distribution by setting:\n",
      "\n",
      "\\begin{equation}\n",
      "    \\tilde{p}_{x,i} = p_{x,i} - mx_i\n",
      "\\end{equation}\n",
      "\n",
      "where:\n",
      "\n",
      "\\begin{equation}\n",
      "    p_x = m_0 c \\beta_{rel} \\gamma_{rel} x' \\ \\ \\ ; \\ \\ \\ m = \\frac{\\langle x p_x\\rangle}{\\langle x^2\\rangle}\n",
      "\\end{equation}\n",
      "\n",
      "In the new variables the emittance is just given by the product of the rms values of both coordinates as:\n",
      "\n",
      "\\begin{equation}\n",
      "    \\epsilon_{n, rms} = \\frac{1}{m_0 c} \\sqrt{\\langle x^2 \\rangle \\langle \\tilde{p}_{x,i}^2 \\rangle}\n",
      "\\end{equation}"
     ]
    },
    {
     "cell_type": "code",
     "collapsed": false,
     "input": [
      "# For X\n",
      "px = m_p*c*beta_rel*gamma_rel*xp\n",
      "m = mean(multiply(x,px))/mean(multiply(x,x)) \n",
      "ptx = px - m*x\n",
      "print (1/(m_p*c))*sqrt(mean(multiply(x,x))*mean(multiply(ptx,ptx)))"
     ],
     "language": "python",
     "metadata": {},
     "outputs": [
      {
       "output_type": "stream",
       "stream": "stdout",
       "text": [
        "2.4844752289e-06\n"
       ]
      }
     ],
     "prompt_number": 153
    },
    {
     "cell_type": "code",
     "collapsed": false,
     "input": [
      "# For Y\n",
      "py = m_p*c*beta_rel*gamma_rel*yp\n",
      "m = mean(multiply(y,py))/mean(multiply(y,y)) \n",
      "pty = py - m*y\n",
      "print (1/(m_p*c))*sqrt(mean(multiply(y,y))*mean(multiply(pty,pty)))"
     ],
     "language": "python",
     "metadata": {},
     "outputs": [
      {
       "output_type": "stream",
       "stream": "stdout",
       "text": [
        "2.4907774098e-06\n"
       ]
      }
     ],
     "prompt_number": 154
    },
    {
     "cell_type": "markdown",
     "metadata": {},
     "source": [
      "## Comparison of trace and phase space results\n",
      "\n",
      "For X:\n",
      "- Trace space: 2.48441354387e-06\n",
      "- Phase space: 2.4844752289e-06\n",
      "\n",
      "For Y:\n",
      "- Trace space: 2.49044248475e-06\n",
      "- Phase space: 2.4907774098e-06"
     ]
    }
   ],
   "metadata": {}
  }
 ]
}