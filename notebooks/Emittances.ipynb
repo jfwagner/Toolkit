{
 "metadata": {
  "name": ""
 },
 "nbformat": 3,
 "nbformat_minor": 0,
 "worksheets": [
  {
   "cells": [
    {
     "cell_type": "markdown",
     "metadata": {},
     "source": [
      "# Beam emittance\n",
      "This notebook shows how to calculate the *normalized* emittance from a particle distribution."
     ]
    },
    {
     "cell_type": "code",
     "collapsed": false,
     "input": [
      "%matplotlib inline\n",
      "import warnings\n",
      "from numpy import *\n",
      "from matplotlib import pyplot as plt\n",
      "from random import gauss\n",
      "from sympy import *\n",
      "from util import *"
     ],
     "language": "python",
     "metadata": {},
     "outputs": [],
     "prompt_number": 1
    },
    {
     "cell_type": "heading",
     "level": 2,
     "metadata": {},
     "source": [
      "Load particle distribution"
     ]
    },
    {
     "cell_type": "code",
     "collapsed": false,
     "input": [
      "infile = \"init_dist.txt\"\n",
      "x, y = get_columns(infile, 0, 2, \"float\")\n",
      "xp, yp = get_columns(infile, 1, 3, \"float\")"
     ],
     "language": "python",
     "metadata": {},
     "outputs": [],
     "prompt_number": 2
    },
    {
     "cell_type": "markdown",
     "metadata": {},
     "source": [
      "## Concept: the beam matrix (or sigma matrix)\n",
      "The beam distribution can be characterized by its first and second moments. The first moments give the centroid motion. The second moments are combined in a **beam matrix**. The explicit sigma matrix for $x$ would be:\n",
      "\n",
      "\\begin{equation}\n",
      "    \\Sigma_{beam}^x =\n",
      "    \\begin{pmatrix}\n",
      "        \\langle x^2\\rangle - \\langle x \\rangle^2 & \\langle xx'\\rangle - \\langle x\\rangle\\langle x'\\rangle \\\\\n",
      "        \\langle x'x\\rangle - \\langle x' \\rangle \\langle x\\rangle & \\langle x'^2\\rangle - \\langle x'\\rangle^2\n",
      "    \\end{pmatrix} =\n",
      "    \\begin{pmatrix}\n",
      "        \\sigma_{xx} & \\sigma_{xx'} \\\\\n",
      "        \\sigma_{x'x} & \\sigma_{x'x'}\n",
      "    \\end{pmatrix} \n",
      "\\end{equation}\n",
      "\n",
      "This matrix is also related to the Twiss (Courant-Snyder) parameters:"
     ]
    },
    {
     "cell_type": "markdown",
     "metadata": {},
     "source": [
      "$\n",
      "    \\Sigma_{beam}^x = \\epsilon_x\n",
      "    \\begin{pmatrix}\n",
      "          \\beta & - \\alpha \\\\\n",
      "        - \\alpha & \\gamma\n",
      "    \\end{pmatrix}\n",
      "$"
     ]
    },
    {
     "cell_type": "code",
     "collapsed": false,
     "input": [
      "# Sigma matrix for X\n",
      "term_1_x = mean(dot(x,x)) - dot(mean(x), mean(x))\n",
      "term_2_x = mean(dot(x,xp)) - dot(mean(x),mean(xp))\n",
      "term_3_x = mean(dot(xp,x)) - dot(mean(xp), mean(x))\n",
      "term_4_x = mean(dot(xp,xp)) - dot(mean(xp),mean(xp))"
     ],
     "language": "python",
     "metadata": {},
     "outputs": [],
     "prompt_number": 3
    },
    {
     "cell_type": "code",
     "collapsed": false,
     "input": [
      "# Sigma matrix for Y\n",
      "term_1_y = mean(dot(y,y)) - dot(mean(y), mean(y))\n",
      "term_2_y = mean(dot(y,yp)) - dot(mean(y),mean(yp))\n",
      "term_3_y = mean(dot(yp,y)) - dot(mean(yp), mean(y))\n",
      "term_4_y = mean(dot(yp,yp)) - dot(mean(yp),mean(yp))"
     ],
     "language": "python",
     "metadata": {},
     "outputs": [],
     "prompt_number": 4
    },
    {
     "cell_type": "markdown",
     "metadata": {},
     "source": [
      "## Method 1\n",
      "The emittance is given by the square root of the determinant of the sigma matrix (called RMS = Root Mean Square).\n",
      "\n",
      "$\\epsilon_x = \\sqrt{\\sigma_{xx}\\sigma_{x'x'} - \\sigma_{x'x}\\sigma_{xx'}}$"
     ]
    },
    {
     "cell_type": "code",
     "collapsed": false,
     "input": [
      "# For X\n",
      "det_x = dot(term_1_x, term_4_x) - dot(term_3_x, term_2_x)\n",
      "print sqrt(abs(det_x))"
     ],
     "language": "python",
     "metadata": {},
     "outputs": [
      {
       "output_type": "stream",
       "stream": "stdout",
       "text": [
        "2.13130392517e-06\n"
       ]
      }
     ],
     "prompt_number": 5
    },
    {
     "cell_type": "code",
     "collapsed": false,
     "input": [
      "# For Y\n",
      "det_y = dot(term_1_y, term_4_y) - dot(term_3_y, term_2_y)\n",
      "print sqrt(abs(det_y))"
     ],
     "language": "python",
     "metadata": {},
     "outputs": [
      {
       "output_type": "stream",
       "stream": "stdout",
       "text": [
        "2.13671020646e-06\n"
       ]
      }
     ],
     "prompt_number": 6
    },
    {
     "cell_type": "markdown",
     "metadata": {},
     "source": [
      "## Method 2\n",
      "The emittance is given by the eigenvalues of $\\Sigma S$, where $S$ is the antisymmetric block-diagonal unit matrix:"
     ]
    },
    {
     "cell_type": "markdown",
     "metadata": {},
     "source": [
      "$\n",
      "    S =\n",
      "    \\begin{pmatrix}\n",
      "        0 & 1 \\\\\n",
      "       -1 & 0\n",
      "    \\end{pmatrix}\n",
      "$"
     ]
    },
    {
     "cell_type": "code",
     "collapsed": false,
     "input": [
      "# Definition of S matrix\n",
      "s = array([[0,1], [-1,0]])"
     ],
     "language": "python",
     "metadata": {},
     "outputs": [],
     "prompt_number": 7
    },
    {
     "cell_type": "code",
     "collapsed": false,
     "input": [
      "# For X\n",
      "# Building the sigma matrix\n",
      "matrix_x = array([[term_1_x, term_2_x],[term_3_x, term_4_x]])\n",
      "\n",
      "# Multiplication of both matrices\n",
      "total_matrix_x = dot(matrix_x, s)\n",
      "\n",
      "# Obtaining the eigenvalues\n",
      "from numpy import linalg as LA\n",
      "em_x, v_x = LA.eig(total_matrix_x)\n",
      "print em_x"
     ],
     "language": "python",
     "metadata": {},
     "outputs": [
      {
       "output_type": "stream",
       "stream": "stdout",
       "text": [
        "[  3.30872245e-24 +2.13130393e-06j   3.30872245e-24 -2.13130393e-06j]\n"
       ]
      }
     ],
     "prompt_number": 8
    },
    {
     "cell_type": "code",
     "collapsed": false,
     "input": [
      "# For Y\n",
      "# Building the sigma matrix\n",
      "matrix_y = array([[term_1_y, term_2_y],[term_3_y, term_4_y]])\n",
      "\n",
      "# Multiplication of both matrices\n",
      "total_matrix_y = dot(matrix_y, s)\n",
      "\n",
      "# Obtaining the eigenvalues\n",
      "from numpy import linalg as LA\n",
      "em_y, v_y = LA.eig(total_matrix_y)\n",
      "print em_y"
     ],
     "language": "python",
     "metadata": {},
     "outputs": [
      {
       "output_type": "stream",
       "stream": "stdout",
       "text": [
        "[ 0. +2.13671021e-06j  0. -2.13671021e-06j]\n"
       ]
      }
     ],
     "prompt_number": 9
    },
    {
     "cell_type": "markdown",
     "metadata": {},
     "source": [
      "## Method 3\n",
      "The emittance is given in terms of the Twiss function $\\beta$."
     ]
    },
    {
     "cell_type": "markdown",
     "metadata": {},
     "source": [
      "\n",
      "<img src=\"files/img/ellipsecourantsnyder.png\" width=\"50%\" height=\"50%\">"
     ]
    },
    {
     "cell_type": "markdown",
     "metadata": {},
     "source": [
      "$\\sigma_x = \\sqrt{\\epsilon_x \\beta_x} \\ \\ \\rightarrow \\ \\ \\epsilon_x = \\frac{\\sigma^2}{\\beta}$"
     ]
    },
    {
     "cell_type": "code",
     "collapsed": false,
     "input": [
      "# Relativistic parameters\n",
      "gamma_rel = 7460.52280875\n",
      "beta_rel = 0.999999991017\n",
      "\n",
      "# Beta function\n",
      "beta = 0.15"
     ],
     "language": "python",
     "metadata": {},
     "outputs": [],
     "prompt_number": 10
    },
    {
     "cell_type": "code",
     "collapsed": false,
     "input": [
      "# For X\n",
      "print (dot(std(x), std(x))/0.15)*beta_rel*gamma_rel"
     ],
     "language": "python",
     "metadata": {},
     "outputs": [
      {
       "output_type": "stream",
       "stream": "stdout",
       "text": [
        "2.42985552162e-06\n"
       ]
      }
     ],
     "prompt_number": 11
    },
    {
     "cell_type": "code",
     "collapsed": false,
     "input": [
      "# For Y\n",
      "print (dot(std(y), std(y))/0.15)*beta_rel*gamma_rel"
     ],
     "language": "python",
     "metadata": {},
     "outputs": [
      {
       "output_type": "stream",
       "stream": "stdout",
       "text": [
        "2.52834119159e-06\n"
       ]
      }
     ],
     "prompt_number": 12
    },
    {
     "cell_type": "markdown",
     "metadata": {},
     "source": [
      "This method is not recommended since it relies on the beta function, which is a function of the lattice. It's better to operate with just properties of the beam."
     ]
    },
    {
     "cell_type": "code",
     "collapsed": false,
     "input": [],
     "language": "python",
     "metadata": {},
     "outputs": [],
     "prompt_number": 12
    }
   ],
   "metadata": {}
  }
 ]
}