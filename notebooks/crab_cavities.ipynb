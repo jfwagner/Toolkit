{
 "metadata": {
  "name": ""
 },
 "nbformat": 3,
 "nbformat_minor": 0,
 "worksheets": [
  {
   "cells": [
    {
     "cell_type": "markdown",
     "metadata": {},
     "source": [
      "# Crab cavities\n",
      "\n",
      "This notebook gathers some of the crab cavities (CCs) parameters."
     ]
    },
    {
     "cell_type": "code",
     "collapsed": false,
     "input": [
      "%matplotlib inline\n",
      "import warnings\n",
      "from numpy import *\n",
      "from matplotlib import pyplot as plt\n",
      "from random import gauss\n",
      "from sympy import *\n",
      "from util import *"
     ],
     "language": "python",
     "metadata": {},
     "outputs": [],
     "prompt_number": 424
    },
    {
     "cell_type": "markdown",
     "metadata": {},
     "source": [
      "## Parameters\n",
      "### Physical constants"
     ]
    },
    {
     "cell_type": "code",
     "collapsed": false,
     "input": [
      "# Proton mass [eV/c^2]\n",
      "# ------------------------------------------------------------------------------\n",
      "m_p = 938.272046e6\n",
      "\n",
      "# Speed of light [m/s]\n",
      "# ------------------------------------------------------------------------------\n",
      "c = 299792458\n",
      "\n",
      "# Electron charge magnitude [C]\n",
      "# ------------------------------------------------------------------------------\n",
      "e = 1.602176565e-19"
     ],
     "language": "python",
     "metadata": {},
     "outputs": [],
     "prompt_number": 425
    },
    {
     "cell_type": "markdown",
     "metadata": {},
     "source": [
      "### Accelerator"
     ]
    },
    {
     "cell_type": "code",
     "collapsed": false,
     "input": [
      "# Beam energy at collision [eV]\n",
      "# ------------------------------------------------------------------------------\n",
      "energy = 7e12\n",
      "\n",
      "# Half crossing angle [rad]\n",
      "# ------------------------------------------------------------------------------\n",
      "theta = 590e-6/2\n",
      "\n",
      "# Beta function at the IP\n",
      "# ------------------------------------------------------------------------------\n",
      "beta = 0.15 \n",
      "\n",
      "# Emittances [m]\n",
      "# ------------------------------------------------------------------------------\n",
      "em_t = 2.5e-6\n",
      "em_s = 7.55e-2\n",
      "em_e = 1.0e-4"
     ],
     "language": "python",
     "metadata": {},
     "outputs": [],
     "prompt_number": 426
    },
    {
     "cell_type": "markdown",
     "metadata": {},
     "source": [
      "### Relativistic"
     ]
    },
    {
     "cell_type": "code",
     "collapsed": false,
     "input": [
      "# Relativistic gamma\n",
      "# ------------------------------------------------------------------------------\n",
      "gamma_rel = energy/m_p\n",
      "print \"Relativistic gamma\", gamma_rel\n",
      "\n",
      "# Relativistic beta\n",
      "# ------------------------------------------------------------------------------\n",
      "beta_rel = sqrt(1-(1/gamma_rel**2))\n",
      "print \"Relativistic beta\", beta_rel"
     ],
     "language": "python",
     "metadata": {},
     "outputs": [
      {
       "output_type": "stream",
       "stream": "stdout",
       "text": [
        "Relativistic gamma 7460.52280875\n",
        "Relativistic beta 0.999999991017\n"
       ]
      }
     ],
     "prompt_number": 427
    },
    {
     "cell_type": "markdown",
     "metadata": {},
     "source": [
      "### Crab cavities"
     ]
    },
    {
     "cell_type": "code",
     "collapsed": false,
     "input": [
      "# Angular frequency [rad/s]\n",
      "# ------------------------------------------------------------------------------\n",
      "omega = (400.79e6)*2*pi \n",
      "\n",
      "# Number of CC's per IP, per side, per beam\n",
      "# ------------------------------------------------------------------------------\n",
      "n = 4 "
     ],
     "language": "python",
     "metadata": {},
     "outputs": [],
     "prompt_number": 428
    },
    {
     "cell_type": "markdown",
     "metadata": {},
     "source": [
      "## Theory\n",
      "### Crab cabity kick\n",
      "The Hamiltonian to describe a thin horizontal CC is:\n",
      "\n",
      "\\begin{equation}\n",
      "    H_{crab} = \\frac{qV}{p_s} \\sin{\\left( \\phi_s + \\frac{\\omega z}{c} \\right)}x\n",
      "\\end{equation}\n",
      "\n",
      "So that:\n",
      "\n",
      "\\begin{equation}\n",
      "    \\Delta p_x = - \\frac{\\partial H_{crab}}{\\partial x} = - \\frac{q V}{p_s} sin{\\left( \\phi_s + \\frac{\\omega z}{c} \\right)}\n",
      "\\end{equation}\n",
      "\n",
      "\\begin{equation}\n",
      "    \\Delta p_z = - \\frac{\\partial H_{crab}}{\\partial z} = - \\frac{q V}{p_s} cos{\\left( \\phi_s + \\frac{\\omega z}{c} \\right)}\\frac{\\omega}{c} x\n",
      "\\end{equation}\n",
      "\n",
      "### Derivation of the voltage\n",
      "\n",
      "To translate the $(y, y')$ vector between two arbitrary points of the machine we use the transfer matrix:\n",
      "\n",
      "\\begin{equation}\n",
      "    \\begin{pmatrix}\n",
      "        y_2 \\\\\n",
      "        y_2'\n",
      "    \\end{pmatrix}\n",
      "    = \n",
      "    M_{1 \\rightarrow 2}\n",
      "    \\begin{pmatrix}\n",
      "        y_1 \\\\\n",
      "        y_1'\n",
      "    \\end{pmatrix}\n",
      "\\end{equation}\n",
      "\n",
      "In terms of the Twiss paramenters and the phase advance between the points we have:\n",
      "\n",
      "\\begin{equation}\n",
      "    M_{1 \\rightarrow 2} = \n",
      "    \\begin{pmatrix} \n",
      "         \\sqrt{\\frac{\\beta_2}{\\beta_1}}(\\cos(\\Delta \\mu) + \\alpha_1 \\sin(\\Delta \\mu)) &  \\sqrt{\\beta_1 \\beta_2} \\sin{(\\Delta \\mu)}\\\\ \n",
      "                 - \\frac{(1 + \\alpha_1 \\alpha_2) \\sin{(\\Delta \\mu)} + (\\alpha_2 - \\alpha_1) \\cos{(\\Delta \\mu)}}{\\sqrt{\\beta_1 \\beta_2}} & \\sqrt{\\frac{\\beta_1}{\\beta_2}}(\\cos(\\Delta \\mu) - \\alpha_2 \\sin(\\Delta \\mu))\n",
      "    \\end{pmatrix} =\n",
      "    \\begin{pmatrix}\n",
      "        M_{11} & M_{12} \\\\\n",
      "        M_{21} & M_{22}\n",
      "    \\end{pmatrix}\n",
      "\\end{equation}\n",
      "\n",
      "So:\n",
      "\n",
      "\\begin{equation}\n",
      "    \\begin{pmatrix}\n",
      "        y_2 \\\\\n",
      "        y_2'\n",
      "    \\end{pmatrix}\n",
      "    = \n",
      "    \\begin{pmatrix}\n",
      "        M_{11} & M_{12} \\\\\n",
      "        M_{21} & M_{22}\n",
      "    \\end{pmatrix}\n",
      "    \\begin{pmatrix}\n",
      "        y_1 \\\\\n",
      "        y_1'\n",
      "    \\end{pmatrix}\n",
      "    \\ \\ \\ \\rightarrow \\ \\ \\ \n",
      "    \\left\\{\n",
      "    \\begin{aligned} \n",
      "        y_2 & = M_{11} y_1  + M_{12} y'_1  \\\\\n",
      "        y'_2 & = M_{21} y_1  + M_{22}y'_1 \n",
      "    \\end{aligned}\n",
      "    \\right.\n",
      "\\end{equation}\n",
      "\n",
      "We want to translate the particles from the begining of the crab cavity to the end. We can assume that the difference in phase advance and beta functions is negligeable, so that $M_{11}=1$. We then have:\n",
      "\n",
      "\\begin{equation}\n",
      "    y_2  = y_1  + M_{12} y'_1 \n",
      "\\end{equation}\n",
      "\n",
      "where we can replace $y'_1$ by the kick formula:\n",
      "\n",
      "\\begin{equation}\n",
      "    y_2  = y_1  + M_{12} \\frac{q V \\sin{\\left(\\phi_s + \\frac{\\omega z}{c}\\right)}}{E} \n",
      "\\end{equation}\n",
      "\n",
      "We know that the voltage has to be chosen in order to compensate half the crossing angle $\\theta$. The slope is:\n",
      "\n",
      "\\begin{equation}\n",
      "    \\tan{(\\theta)} = \\frac{\\Delta y}{\\Delta s} \\approx \\frac{dy}{ds} \\ \\ \\ \\rightarrow \\ \\ \\ \\tan{(\\theta)} = \\frac{d \\left( y_1  + M_{12} \\frac{q V \\sin{\\left(\\phi_s + \\frac{\\omega z}{c}\\right)}}{E} \\right)}{ds}\n",
      "\\end{equation}\n",
      "\n",
      "$z = s - s_0$ where $s_0$ is the position in the center of the bunch. Assuming small angles the expression can be simplified into:\n",
      "\n",
      "\\begin{equation}\n",
      "    \\tan{(\\theta)} = \\frac{M_{12} q V \\omega}{c E} \\ \\ \\ \\Rightarrow \\ \\ \\ V = \\frac{c E \\tan{(\\theta)}}{q \\omega M_{12} } = \\frac{c E \\tan{(\\theta)}}{q \\omega \\sqrt{\\beta_1 \\beta_2} \\sin{(\\Delta \\mu)} n_{cc}}\n",
      "\\end{equation}\n",
      "\n",
      "The voltage to close the bump would then be:\n",
      "\n",
      "\\begin{equation}\n",
      "    V_2 = - M_{22} V\n",
      "\\end{equation}\n",
      "\n",
      "where $M_{22}$ denotes the $(2,2)$ element of the optical transfer matrix from the first CC to the second one downstream. \n",
      "\n",
      "\\begin{equation}\n",
      "    M_{22} = \\sqrt{\\frac{\\beta_1}{\\beta_2}} (\\cos{(\\Delta \\mu)} - \\alpha_2 \\sin{(\\Delta \\mu)}) \\approx  \\sqrt{\\frac{\\beta_1}{\\beta_2}} (\\cos{(\\Delta \\mu)})\n",
      "\\end{equation}\n",
      "\n",
      "where the subindex 1 denotes *upstream* and 2 denotes *downstream*. The phase advance between the CCs and the IP is optimized to be $\\Delta \\mu = \\frac{\\pi}{2}$.\n",
      "\n",
      "### Derivation of the displacement\n",
      "Coming back to the equation:\n",
      "\n",
      "\\begin{equation}\n",
      "    y_2  = y_1  + M_{12} \\frac{q V \\sin{\\left(\\phi_s + \\frac{\\omega z}{c}\\right)}}{E} \n",
      "\\end{equation}\n",
      "\n",
      "We can replace there the expression for the voltage:\n",
      "\n",
      "\n",
      "\\begin{equation}\n",
      "    y_2  = y_1  + M_{12} \\frac{q\\sin{\\left(\\phi_s + \\frac{\\omega z}{c}\\right)}}{E} \\frac{c E \\tan{(\\theta)}}{q \\omega M_{12} } =\n",
      "    \\sin{\\left(\\phi_s + \\frac{\\omega z}{c}\\right)} \\frac{c \\tan{(\\theta)}}{ \\omega }\n",
      "\\end{equation}"
     ]
    },
    {
     "cell_type": "markdown",
     "metadata": {},
     "source": [
      "## Generation of a gaussian distribution in (z,y)"
     ]
    },
    {
     "cell_type": "code",
     "collapsed": false,
     "input": [
      "# Indicate the number of particles for your bunch \n",
      "# ------------------------------------------------------------------------------\n",
      "particles = 10000\n",
      "\n",
      "# Initialize the numpy arrays for the particle's position\n",
      "# ------------------------------------------------------------------------------\n",
      "data_y = zeros(particles)\n",
      "data_z = zeros(particles)\n",
      "\n",
      "# Calculate the standard deviation for each plane\n",
      "# ------------------------------------------------------------------------------\n",
      "sigma_t = sqrt((em_t*beta)/(beta_rel*gamma_rel)) # Remember to use the geometrical!\n",
      "sigma_s = sqrt((em_s*beta))\n",
      "\n",
      "# Generate a gaussian distribution with that standard deviation\n",
      "# ------------------------------------------------------------------------------\n",
      "y = [gauss(0,sigma_t) for particle in range(particles)]\n",
      "data_y = asarray(y)\n",
      "\n",
      "z = [gauss(0,sigma_s) for particle in range(particles)]\n",
      "data_z = asarray(z)\n",
      "\n",
      "# Plot the generated distribution\n",
      "# ------------------------------------------------------------------------------\n",
      "plt.scatter(data_z, data_y)\n",
      "plt.ylim([-0.8e-4, 0.8e-4])\n",
      "plt.xlim([-0.4, 0.4])\n",
      "plt.ticklabel_format(style='sci',axis='x',scilimits=(0,0))\n",
      "plt.ticklabel_format(style='sci',axis='y',scilimits=(0,0))\n",
      "plt.xlabel('z [m]')\n",
      "plt.ylabel('y [m]')"
     ],
     "language": "python",
     "metadata": {},
     "outputs": [
      {
       "metadata": {},
       "output_type": "pyout",
       "prompt_number": 429,
       "text": [
        "<matplotlib.text.Text at 0x7f2ffeca4e10>"
       ]
      },
      {
       "metadata": {},
       "output_type": "display_data",
       "png": "[encoded data removed]",
       "text": [
        "<matplotlib.figure.Figure at 0x7f2fff177e90>"
       ]
      }
     ],
     "prompt_number": 429
    },
    {
     "cell_type": "markdown",
     "metadata": {},
     "source": [
      "## Application of the kick"
     ]
    },
    {
     "cell_type": "code",
     "collapsed": false,
     "input": [
      "y_new = -((tan(theta)*c)/omega)*sin(multiply(data_z, omega)/c)\n",
      "\n",
      "# Plot the generated distribution\n",
      "# ------------------------------------------------------------------------------\n",
      "plt.scatter(data_z, data_y + y_new)\n",
      "plt.ylim([-0.8e-4, 0.8e-4])\n",
      "plt.xlim([-0.4, 0.4])\n",
      "plt.ticklabel_format(style='sci',axis='x',scilimits=(0,0))\n",
      "plt.ticklabel_format(style='sci',axis='y',scilimits=(0,0))\n",
      "plt.xlabel('z [m]')\n",
      "plt.ylabel('y [m]')"
     ],
     "language": "python",
     "metadata": {},
     "outputs": [
      {
       "metadata": {},
       "output_type": "pyout",
       "prompt_number": 430,
       "text": [
        "<matplotlib.text.Text at 0x7f2ffee32090>"
       ]
      },
      {
       "metadata": {},
       "output_type": "display_data",
       "png": "[encoded data removed]",
       "text": [
        "<matplotlib.figure.Figure at 0x7f2ffed86b90>"
       ]
      }
     ],
     "prompt_number": 430
    },
    {
     "cell_type": "markdown",
     "metadata": {},
     "source": [
      "## Installation of the CCs for ATLAS\n",
      "ATLAS has a vertical crossing angle. \n",
      "### Upstream"
     ]
    },
    {
     "cell_type": "code",
     "collapsed": false,
     "input": [
      "# Position\n",
      "# ------------------------------------------------------------------------------\n",
      "s1 = zeros(4)\n",
      "s1[0] = 26494.25920\n",
      "s1[1] = 26495.30920\n",
      "s1[2] = 26500.85920\n",
      "s1[3] = 26501.90920\n",
      "\n",
      "print \"Positions (m)\"\n",
      "print s1\n",
      "print \" \"\n",
      "\n",
      "# Beta functions (vertical)\n",
      "# ------------------------------------------------------------------------------\n",
      "b1 = zeros(4)\n",
      "b1[0] = 2791.594664\n",
      "b1[1] = 2888.919979\n",
      "b1[2] = 3431.069503\n",
      "b1[3] = 3538.881847\n",
      "\n",
      "# Alpha functions (vertical)\n",
      "# ------------------------------------------------------------------------------\n",
      "a1 = zeros(4)\n",
      "a1[0] = -45.9481519\n",
      "a1[1] = -46.7426238\n",
      "a1[2] = -50.9419753\n",
      "a1[3] = -51.7364472\n",
      "\n",
      "# Phase advance\n",
      "# ------------------------------------------------------------------------------\n",
      "p1 = zeros(4)\n",
      "p1[0] = abs(60.0678167 - 60.3200491)*2*pi\n",
      "p1[1] = abs(60.0678755 - 60.3200491)*2*pi\n",
      "p1[2] = abs(60.0681560 - 60.3200491)*2*pi\n",
      "p1[3] = abs(60.0682039 - 60.3200491)*2*pi\n",
      "\n",
      "print \"Phase advances (deg)\"\n",
      "print p1*(360/(2*pi))\n",
      "print \" \"\n",
      "\n",
      "# Initialize voltage array\n",
      "# ------------------------------------------------------------------------------\n",
      "V1 = zeros(4)\n",
      "\n",
      "# Calculate the voltage\n",
      "# ------------------------------------------------------------------------------\n",
      "V1 = (c*energy*tan(theta)*10**(-6))/(omega*sqrt(beta*b1)*sin(p1)*n)\n",
      "print \"Voltages (MV)\"\n",
      "print V1\n",
      "print \" \""
     ],
     "language": "python",
     "metadata": {},
     "outputs": [
      {
       "output_type": "stream",
       "stream": "stdout",
       "text": [
        "Positions (m)\n",
        "[ 26494.2592  26495.3092  26500.8592  26501.9092]\n",
        " \n",
        "Phase advances (deg)\n",
        "[ 90.803664  90.782496  90.681516  90.664272]\n",
        " \n",
        "Voltages (MV)\n",
        "[ 3.0036889   2.95264444  2.70928299  2.66768509]\n",
        " \n"
       ]
      }
     ],
     "prompt_number": 431
    },
    {
     "cell_type": "markdown",
     "metadata": {},
     "source": [
      "### Downstream"
     ]
    },
    {
     "cell_type": "code",
     "collapsed": false,
     "input": [
      "# Position\n",
      "# ------------------------------------------------------------------------------\n",
      "s2 = zeros(4)\n",
      "s2[0] = 153.57400\n",
      "s2[1] = 154.62400\n",
      "s2[2] = 160.17400\n",
      "s2[3] = 161.22400\n",
      "\n",
      "print \"Positions (m)\"\n",
      "print s2\n",
      "print \" \"\n",
      "\n",
      "# Beta functions (vertical)\n",
      "# ------------------------------------------------------------------------------\n",
      "b2 = zeros(4)\n",
      "b2[0] = 3794.802841\n",
      "b2[1] = 3754.402506\n",
      "b2[2] = 3544.459277\n",
      "b2[3] = 3505.421633\n",
      "\n",
      "# Alpha functions (vertical)\n",
      "# ------------------------------------------------------------------------------\n",
      "a2 = zeros(4)\n",
      "a2[0] = 19.2898718\n",
      "a2[1] = 19.1866376\n",
      "a2[2] = 18.6409712\n",
      "a2[3] = 18.5377370\n",
      "\n",
      "# Phase advance\n",
      "# ------------------------------------------------------------------------------\n",
      "p2 = zeros(4)\n",
      "p2[0] = (0.2521059)*2*pi\n",
      "p2[1] = (0.2521502)*2*pi\n",
      "p2[2] = (0.2523922)*2*pi\n",
      "p2[3] = (0.2524396)*2*pi\n",
      "\n",
      "print \"Phase advances (deg)\"\n",
      "print p2*(360/(2*pi))\n",
      "print \" \"\n",
      "\n",
      "# Phase advance between cavities\n",
      "# ------------------------------------------------------------------------------\n",
      "p = zeros(4)\n",
      "p = deg2rad(p1 + p2)\n",
      "\n",
      "# Initialize voltage array\n",
      "# ------------------------------------------------------------------------------\n",
      "V2 = zeros(4)\n",
      "\n",
      "# Calculate the voltage\n",
      "# ------------------------------------------------------------------------------\n",
      "V2 = sqrt(b1/b2)*(cos(p))*V1\n",
      "print \"Voltages (MV)\"\n",
      "print V2\n"
     ],
     "language": "python",
     "metadata": {},
     "outputs": [
      {
       "output_type": "stream",
       "stream": "stdout",
       "text": [
        "Positions (m)\n",
        "[ 153.574  154.624  160.174  161.224]\n",
        " \n",
        "Phase advances (deg)\n",
        "[ 90.758124  90.774072  90.861192  90.878256]\n",
        " \n",
        "Voltages (MV)\n",
        "[ 2.57230203  2.586092    2.66151987  2.67628921]\n"
       ]
      }
     ],
     "prompt_number": 432
    }
   ],
   "metadata": {}
  }
 ]
}